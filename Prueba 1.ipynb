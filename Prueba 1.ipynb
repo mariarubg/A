{
 "cells": [
  {
   "cell_type": "code",
   "execution_count": 1,
   "metadata": {},
   "outputs": [],
   "source": [
    "import pandas as pd"
   ]
  },
  {
   "cell_type": "code",
   "execution_count": 2,
   "metadata": {},
   "outputs": [],
   "source": [
    "dataframe = pd.read_json(\"https://api.covid19api.com/countries\")"
   ]
  },
  {
   "cell_type": "code",
   "execution_count": 3,
   "metadata": {},
   "outputs": [
    {
     "name": "stdout",
     "output_type": "stream",
     "text": [
      "                      Country                 Slug ISO2\n",
      "0                     Senegal              senegal   SN\n",
      "1    United States of America        united-states   US\n",
      "2         Antigua and Barbuda  antigua-and-barbuda   AG\n",
      "3                      Greece               greece   GR\n",
      "4                     Myanmar              myanmar   MM\n",
      "..                        ...                  ...  ...\n",
      "243                    Canada               canada   CA\n",
      "244                Guadeloupe           guadeloupe   GP\n",
      "245                   Lesotho              lesotho   LS\n",
      "246                    Poland               poland   PL\n",
      "247                     Yemen                yemen   YE\n",
      "\n",
      "[248 rows x 3 columns]\n"
     ]
    }
   ],
   "source": [
    "print(dataframe)"
   ]
  },
  {
   "cell_type": "code",
   "execution_count": 4,
   "metadata": {},
   "outputs": [
    {
     "name": "stdout",
     "output_type": "stream",
     "text": [
      "                     Country           Slug ISO2\n",
      "1   United States of America  united-states   US\n",
      "83             Korea (North)    korea-north   KP\n",
      "89                     Spain          spain   ES\n"
     ]
    }
   ],
   "source": [
    "df1 = dataframe[\n",
    "    (dataframe[\"Country\"] == \"Spain\")\n",
    "    | (dataframe[\"Country\"] == \"United States of America\")\n",
    "    | (dataframe[\"Country\"] == \"Korea (North)\")\n",
    "]\n",
    "print(df1) "
   ]
  },
  {
   "cell_type": "code",
   "execution_count": 5,
   "metadata": {},
   "outputs": [
    {
     "ename": "SyntaxError",
     "evalue": "invalid syntax (<ipython-input-5-e932cf929caf>, line 3)",
     "output_type": "error",
     "traceback": [
      "\u001b[0;36m  File \u001b[0;32m\"<ipython-input-5-e932cf929caf>\"\u001b[0;36m, line \u001b[0;32m3\u001b[0m\n\u001b[0;31m    En primer lugar, importamos las librerías de visualización de datos al proyecto.\u001b[0m\n\u001b[0m       ^\u001b[0m\n\u001b[0;31mSyntaxError\u001b[0m\u001b[0;31m:\u001b[0m invalid syntax\n"
     ]
    }
   ],
   "source": [
    "# Importar librerías\n",
    "\n",
    "En primer lugar, importamos las librerías de visualización de datos al proyecto.\n",
    "\n",
    "import matplotlib.pyplot as plt\n",
    "import numpy as np"
   ]
  },
  {
   "cell_type": "markdown",
   "metadata": {},
   "source": [
    "# Importar librerías\n",
    "\n",
    "En primer lugar, importamos las librerías de visualización de datos al proyecto.\n"
   ]
  },
  {
   "cell_type": "code",
   "execution_count": 6,
   "metadata": {},
   "outputs": [],
   "source": [
    "import matplotlib.pyplot as plt\n",
    "import numpy as np"
   ]
  },
  {
   "cell_type": "markdown",
   "metadata": {},
   "source": [
    "# Definir los datos"
   ]
  },
  {
   "cell_type": "code",
   "execution_count": 10,
   "metadata": {},
   "outputs": [],
   "source": [
    "labels = ['Country', 'Slug', 'ISO2']\n",
    "USA = [30, 34, 30]\n",
    "NKorea = [25, 32, 34]\n",
    "Spain = [20, 34, 30]"
   ]
  },
  {
   "cell_type": "markdown",
   "metadata": {},
   "source": [
    "# Definir el estilo del gráfico"
   ]
  },
  {
   "cell_type": "code",
   "execution_count": 11,
   "metadata": {},
   "outputs": [],
   "source": [
    "x = np.arange(len(labels))  # the label locations\n",
    "width = 0.35  # the width of the bars"
   ]
  },
  {
   "cell_type": "markdown",
   "metadata": {},
   "source": [
    "Ponemos la medida y el estilo del gráfico"
   ]
  },
  {
   "cell_type": "code",
   "execution_count": 13,
   "metadata": {},
   "outputs": [
    {
     "name": "stderr",
     "output_type": "stream",
     "text": [
      "<ipython-input-13-67d71e24dc22>:9: MatplotlibDeprecationWarning: Passing the minor parameter of set_ticks() positionally is deprecated since Matplotlib 3.2; the parameter will become keyword-only two minor releases later.\n",
      "  ax.set_xticks(x, labels)\n"
     ]
    },
    {
     "data": {
      "text/plain": [
       "<matplotlib.legend.Legend at 0x7f9bdd5a3eb0>"
      ]
     },
     "execution_count": 13,
     "metadata": {},
     "output_type": "execute_result"
    },
    {
     "data": {
      "image/png": "[encoded data removed]",
      "text/plain": [
       "<Figure size 432x288 with 1 Axes>"
      ]
     },
     "metadata": {
      "needs_background": "light"
     },
     "output_type": "display_data"
    }
   ],
   "source": [
    "fig, ax = plt.subplots()\n",
    "rects1 = ax.bar(x - width/2, USA, width, label='USA')\n",
    "rects2 = ax.bar(x + width/2, NKorea, width, label='NKorea')\n",
    "rects3 = ax.bar(x + width/2, Spain, width, label='Spain')\n",
    "\n",
    "# Add some text for labels, title and custom x-axis tick labels, etc.\n",
    "ax.set_ylabel('En unidades')\n",
    "ax.set_title('Datos de covid')\n",
    "ax.set_xticks(x, labels)\n",
    "ax.legend()"
   ]
  },
  {
   "cell_type": "code",
   "execution_count": null,
   "metadata": {},
   "outputs": [],
   "source": []
  }
 ],
 "metadata": {
  "kernelspec": {
   "display_name": "Python 3",
   "language": "python",
   "name": "python3"
  },
  "language_info": {
   "codemirror_mode": {
    "name": "ipython",
    "version": 3
   },
   "file_extension": ".py",
   "mimetype": "text/x-python",
   "name": "python",
   "nbconvert_exporter": "python",
   "pygments_lexer": "ipython3",
   "version": "3.8.10"
  }
 },
 "nbformat": 4,
 "nbformat_minor": 4
}
